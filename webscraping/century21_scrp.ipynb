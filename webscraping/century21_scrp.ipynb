{
 "cells": [
  {
   "cell_type": "markdown",
   "metadata": {},
   "source": [
    " http://www.pyclass.com/real-estate/rock-springs-wy/LCWYROCKSPRINGS/"
   ]
  },
  {
   "cell_type": "code",
   "execution_count": 57,
   "metadata": {},
   "outputs": [
    {
     "name": "stdout",
     "output_type": "stream",
     "text": [
      "Rock Springs, WY 82901\n",
      "0 Gateway\n"
     ]
    }
   ],
   "source": [
    "import requests\n",
    "from bs4 import BeautifulSoup as bss\n",
    "headers = {'User-agent': 'Mozilla/5.0 (X11; Ubuntu; Linux x86_64; rv:61.0) Gecko/20100101 Firefox/61.0'}\n",
    "r = requests.get(\"http://www.pyclass.com/real-estate/rock-springs-wy/LCWYROCKSPRINGS/\",headers=headers)\n",
    "c = r.content\n",
    "\n",
    "soup = bss(c,\"html.parser\")\n",
    "# print(soup.prettify())\n",
    "all = soup.find_all(\"div\",{\"class\":\"propertyRow\"})\n",
    "dd = {}\n",
    "# print((all))\n",
    "\n",
    "\n",
    "print(((all[0].find_all(\"span\",{\"class\":\"propAddressCollapse\"}))[1]).text)\n",
    "# print((all[0].find(\"h4\",{\"class\":\"propPrice\"})).text)\n",
    "# for item in all:\n",
    "#     price = ((item.find(\"h4\",{\"class\":\"propPrice\"})).text)    \n",
    "#     final_price = (\"\".join(price.split()))\n",
    "#     print(final_price)\n",
    "print(((all[0].find_all(\"span\",{\"class\":\"propAddressCollapse\"}))[0]).text)\n",
    "\n"
   ]
  },
  {
   "cell_type": "code",
   "execution_count": 55,
   "metadata": {},
   "outputs": [
    {
     "name": "stdout",
     "output_type": "stream",
     "text": [
      "helloaasd\n",
      "hello.aasd\n"
     ]
    }
   ],
   "source": [
    "s = \"hello.aasd\"\n",
    "if \".\" in s:\n",
    "    print(s.replace(\".\",\" \").replace(\" \",\"\"))\n",
    "    print(s)\n",
    "l = [1,2,3,4,5,6]\n",
    "# l.find_all(1)"
   ]
  },
  {
   "cell_type": "code",
   "execution_count": 107,
   "metadata": {},
   "outputs": [
    {
     "name": "stdout",
     "output_type": "stream",
     "text": [
      "$725,000\n",
      "$452,900\n",
      "$396,900\n",
      "$389,900\n",
      "$254,000\n",
      "$252,900\n",
      "$210,000\n",
      "$209,000\n",
      "$199,900\n",
      "$196,900\n"
     ]
    },
    {
     "data": {
      "text/plain": [
       "[{'price': '$725,000',\n",
       "  'final_address': '0Gateway\\nRock Springs, WY 82901\\n',\n",
       "  'bed': 'None',\n",
       "  'bath': 'None',\n",
       "  'sqft': 'None'},\n",
       " {'price': '$452,900',\n",
       "  'final_address': '1003WinchesterBlvd.\\nRock Springs, WY 82901\\n',\n",
       "  'bed': '4 Beds',\n",
       "  'bath': '4 Full Baths',\n",
       "  'sqft': 'None'},\n",
       " {'price': '$396,900',\n",
       "  'final_address': '600Talladega\\nRock Springs, WY 82901\\n',\n",
       "  'bed': '5 Beds',\n",
       "  'bath': '3 Full Baths',\n",
       "  'sqft': '3,154 Sq. Ft'},\n",
       " {'price': '$389,900',\n",
       "  'final_address': '3239SpearheadWay\\nRock Springs, WY 82901\\n',\n",
       "  'bed': '4 Beds',\n",
       "  'bath': '3 Full Baths',\n",
       "  'sqft': '3,076 Sq. Ft'},\n",
       " {'price': '$254,000',\n",
       "  'final_address': '522EmeraldStreet\\nRock Springs, WY 82901\\n',\n",
       "  'bed': '3 Beds',\n",
       "  'bath': '3 Full Baths',\n",
       "  'sqft': '1,172 Sq. Ft'},\n",
       " {'price': '$252,900',\n",
       "  'final_address': \"1302Veteran'sDrive\\nRock Springs, WY 82901\\n\",\n",
       "  'bed': '4 Beds',\n",
       "  'bath': '2 Full Baths',\n",
       "  'sqft': '1,932 Sq. Ft'},\n",
       " {'price': '$210,000',\n",
       "  'final_address': '1021CypressCir\\nRock Springs, WY 82901\\n',\n",
       "  'bed': '4 Beds',\n",
       "  'bath': '3 Full Baths',\n",
       "  'sqft': '1,676 Sq. Ft'},\n",
       " {'price': '$209,000',\n",
       "  'final_address': '913MadisonDr\\nRock Springs, WY 82901\\n',\n",
       "  'bed': '3 Beds',\n",
       "  'bath': '2 Full Baths',\n",
       "  'sqft': '1,344 Sq. Ft'},\n",
       " {'price': '$199,900',\n",
       "  'final_address': '1344TetonStreet\\nRock Springs, WY 82901\\n',\n",
       "  'bed': '3 Beds',\n",
       "  'bath': '2 Full Baths',\n",
       "  'sqft': '1,920 Sq. Ft'},\n",
       " {'price': '$196,900',\n",
       "  'final_address': '4MinniesLane\\nRock Springs, WY 82901\\n',\n",
       "  'bed': '3 Beds',\n",
       "  'bath': '2 Full Baths',\n",
       "  'sqft': '1,664 Sq. Ft'}]"
      ]
     },
     "execution_count": 107,
     "metadata": {},
     "output_type": "execute_result"
    }
   ],
   "source": [
    "# all[0]\n",
    "ll = []\n",
    "\n",
    "for item in all:\n",
    "    d = {}\n",
    "    price = ((item.find(\"h4\",{\"class\":\"propPrice\"})).text)    \n",
    "    final_price = (\"\".join(price.split()))\n",
    "    d[\"price\"] =final_price \n",
    "    print(final_price)\n",
    "#     print((item.find_all(\"span\",{\"class\":\"propAddressCollapse\"})))\n",
    "    add1 = (((item.find_all(\"span\",{\"class\":\"propAddressCollapse\"}))[0]).text) \n",
    "    add2 = (((item.find_all(\"span\",{\"class\":\"propAddressCollapse\"}))[1]).text)\n",
    "    final_address = (\"\".join(add1.split())) +'\\n'+ (add2)+\"\\n\"  #(\"\".join(add2.split()))    \n",
    "    d[\"final_address\"] =final_address\n",
    "#     \n",
    "    no_bed = item.find(\"span\",{\"class\":\"infoBed\"})\n",
    "    no_bath = item.find(\"span\",{\"class\":\"infoValueFullBath\"})\n",
    "    sq_ft = item.find(\"span\",{\"class\":\"infoSqFt\"})\n",
    "    \n",
    "    try:\n",
    "        d[\"bed\"]= no_bed.text\n",
    "    except:\n",
    "        d[\"bed\"]= \"None\"\n",
    "    try:\n",
    "        d[\"bath\"]= no_bath.text\n",
    "    except:\n",
    "        d[\"bath\"]= \"None\"\n",
    "    try:\n",
    "        d[\"sqft\"]=sq_ft.text\n",
    "    except:\n",
    "        d[\"sqft\"]= \"None\"\n",
    "    ll.append(d)\n",
    "# print(ll)\n",
    "ll\n",
    "    \n",
    "#     break\n",
    "    "
   ]
  },
  {
   "cell_type": "code",
   "execution_count": 109,
   "metadata": {},
   "outputs": [],
   "source": [
    "import pandas\n",
    "df = pandas.DataFrame(ll)\n",
    "df.to_csv(\"out.csv\")"
   ]
  }
 ],
 "metadata": {
  "kernelspec": {
   "display_name": "Python 3",
   "language": "python",
   "name": "python3"
  },
  "language_info": {
   "codemirror_mode": {
    "name": "ipython",
    "version": 3
   },
   "file_extension": ".py",
   "mimetype": "text/x-python",
   "name": "python",
   "nbconvert_exporter": "python",
   "pygments_lexer": "ipython3",
   "version": "3.6.8"
  }
 },
 "nbformat": 4,
 "nbformat_minor": 2
}
